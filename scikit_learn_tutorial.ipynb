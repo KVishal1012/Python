{
 "cells": [
  {
   "cell_type": "markdown",
   "id": "488a9c9a",
   "metadata": {},
   "source": [
    "# Install and Import Libraries\n",
    "Install Scikit-learn if not already installed and import necessary libraries such as pandas, numpy, and sklearn."
   ]
  },
  {
   "cell_type": "code",
   "execution_count": 1,
   "id": "67088e06",
   "metadata": {},
   "outputs": [
    {
     "ename": "ModuleNotFoundError",
     "evalue": "No module named 'pandas'",
     "output_type": "error",
     "traceback": [
      "\u001b[31m---------------------------------------------------------------------------\u001b[39m",
      "\u001b[31mModuleNotFoundError\u001b[39m                       Traceback (most recent call last)",
      "\u001b[36mCell\u001b[39m\u001b[36m \u001b[39m\u001b[32mIn[1]\u001b[39m\u001b[32m, line 6\u001b[39m\n\u001b[32m      1\u001b[39m \u001b[38;5;66;03m# Install Scikit-learn\u001b[39;00m\n\u001b[32m      2\u001b[39m \u001b[38;5;66;03m# Uncomment the line below if Scikit-learn is not installed\u001b[39;00m\n\u001b[32m      3\u001b[39m \u001b[38;5;66;03m# !pip install scikit-learn\u001b[39;00m\n\u001b[32m      4\u001b[39m \n\u001b[32m      5\u001b[39m \u001b[38;5;66;03m# Import libraries\u001b[39;00m\n\u001b[32m----> \u001b[39m\u001b[32m6\u001b[39m \u001b[38;5;28;01mimport\u001b[39;00m\u001b[38;5;250m \u001b[39m\u001b[34;01mpandas\u001b[39;00m\u001b[38;5;250m \u001b[39m\u001b[38;5;28;01mas\u001b[39;00m\u001b[38;5;250m \u001b[39m\u001b[34;01mpd\u001b[39;00m\n\u001b[32m      7\u001b[39m \u001b[38;5;28;01mimport\u001b[39;00m\u001b[38;5;250m \u001b[39m\u001b[34;01mnumpy\u001b[39;00m\u001b[38;5;250m \u001b[39m\u001b[38;5;28;01mas\u001b[39;00m\u001b[38;5;250m \u001b[39m\u001b[34;01mnp\u001b[39;00m\n\u001b[32m      8\u001b[39m \u001b[38;5;28;01mfrom\u001b[39;00m\u001b[38;5;250m \u001b[39m\u001b[34;01msklearn\u001b[39;00m\u001b[38;5;250m \u001b[39m\u001b[38;5;28;01mimport\u001b[39;00m datasets\n",
      "\u001b[31mModuleNotFoundError\u001b[39m: No module named 'pandas'"
     ]
    }
   ],
   "source": [
    "# Install Scikit-learn\n",
    "# Uncomment the line below if Scikit-learn is not installed\n",
    "# !pip install scikit-learn\n",
    "\n",
    "# Import libraries\n",
    "import pandas as pd\n",
    "import numpy as np\n",
    "from sklearn import datasets"
   ]
  },
  {
   "cell_type": "markdown",
   "id": "b2b14ad0",
   "metadata": {},
   "source": [
    "# Load Dataset\n",
    "Load a sample dataset using Scikit-learn's built-in datasets or an external dataset using pandas."
   ]
  },
  {
   "cell_type": "code",
   "execution_count": null,
   "id": "29784a65",
   "metadata": {},
   "outputs": [],
   "source": [
    "# Load a sample dataset\n",
    "from sklearn.datasets import load_iris\n",
    "\n",
    "data = load_iris()\n",
    "X, y = data.data, data.target\n",
    "print(\"Features:\", X[:5])\n",
    "print(\"Labels:\", y[:5])"
   ]
  },
  {
   "cell_type": "markdown",
   "id": "59cad69b",
   "metadata": {},
   "source": [
    "# Preprocess Data\n",
    "Handle missing values, encode categorical variables, and scale numerical features using Scikit-learn preprocessing tools."
   ]
  },
  {
   "cell_type": "code",
   "execution_count": null,
   "id": "686d0384",
   "metadata": {},
   "outputs": [],
   "source": [
    "# Preprocess data\n",
    "from sklearn.preprocessing import StandardScaler\n",
    "\n",
    "scaler = StandardScaler()\n",
    "X_scaled = scaler.fit_transform(X)\n",
    "print(\"Scaled Features:\", X_scaled[:5])"
   ]
  },
  {
   "cell_type": "markdown",
   "id": "6e298d43",
   "metadata": {},
   "source": [
    "# Split Dataset\n",
    "Split the dataset into training and testing sets using train_test_split from Scikit-learn."
   ]
  },
  {
   "cell_type": "code",
   "execution_count": null,
   "id": "7b37f21f",
   "metadata": {},
   "outputs": [],
   "source": [
    "# Split the dataset\n",
    "from sklearn.model_selection import train_test_split\n",
    "\n",
    "X_train, X_test, y_train, y_test = train_test_split(X_scaled, y, test_size=0.2, random_state=42)\n",
    "print(\"Training set size:\", X_train.shape)\n",
    "print(\"Test set size:\", X_test.shape)"
   ]
  },
  {
   "cell_type": "markdown",
   "id": "27e308c7",
   "metadata": {},
   "source": [
    "# Train a Model\n",
    "Train a machine learning model (e.g., Linear Regression, Decision Tree, or Random Forest) using Scikit-learn."
   ]
  },
  {
   "cell_type": "code",
   "execution_count": null,
   "id": "7864c983",
   "metadata": {},
   "outputs": [],
   "source": [
    "# Train a model\n",
    "from sklearn.linear_model import LogisticRegression\n",
    "\n",
    "model = LogisticRegression()\n",
    "model.fit(X_train, y_train)\n",
    "print(\"Model trained successfully.\")"
   ]
  },
  {
   "cell_type": "markdown",
   "id": "e42ec4db",
   "metadata": {},
   "source": [
    "# Evaluate the Model\n",
    "Evaluate the model's performance using metrics such as accuracy, precision, recall, or mean squared error."
   ]
  },
  {
   "cell_type": "code",
   "execution_count": null,
   "id": "af3ec0aa",
   "metadata": {},
   "outputs": [],
   "source": [
    "# Evaluate the model\n",
    "from sklearn.metrics import accuracy_score\n",
    "\n",
    "y_pred = model.predict(X_test)\n",
    "accuracy = accuracy_score(y_test, y_pred)\n",
    "print(\"Accuracy:\", accuracy)"
   ]
  },
  {
   "cell_type": "markdown",
   "id": "0f7d31ea",
   "metadata": {},
   "source": [
    "# Make Predictions\n",
    "Use the trained model to make predictions on new or test data."
   ]
  },
  {
   "cell_type": "code",
   "execution_count": null,
   "id": "622846fe",
   "metadata": {},
   "outputs": [],
   "source": [
    "# Make predictions\n",
    "new_data = X_test[:5]\n",
    "predictions = model.predict(new_data)\n",
    "print(\"Predictions:\", predictions)"
   ]
  }
 ],
 "metadata": {
  "kernelspec": {
   "display_name": ".venv",
   "language": "python",
   "name": "python3"
  },
  "language_info": {
   "codemirror_mode": {
    "name": "ipython",
    "version": 3
   },
   "file_extension": ".py",
   "mimetype": "text/x-python",
   "name": "python",
   "nbconvert_exporter": "python",
   "pygments_lexer": "ipython3",
   "version": "3.13.3"
  }
 },
 "nbformat": 4,
 "nbformat_minor": 5
}
